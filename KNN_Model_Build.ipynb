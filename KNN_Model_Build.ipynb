{
  "nbformat": 4,
  "nbformat_minor": 0,
  "metadata": {
    "colab": {
      "provenance": [],
      "mount_file_id": "1Gq31lA483GJJrYWgX5o4v4HdH0Y--Y1h",
      "authorship_tag": "ABX9TyOZaPMNgpT1hFzq2RmRvthV",
      "include_colab_link": true
    },
    "kernelspec": {
      "name": "python3",
      "display_name": "Python 3"
    },
    "language_info": {
      "name": "python"
    }
  },
  "cells": [
    {
      "cell_type": "markdown",
      "metadata": {
        "id": "view-in-github",
        "colab_type": "text"
      },
      "source": [
        "<a href=\"https://colab.research.google.com/github/kristianJW54/ML-AI-Models-Projects/blob/main/KNN_Model_Build.ipynb\" target=\"_parent\"><img src=\"https://colab.research.google.com/assets/colab-badge.svg\" alt=\"Open In Colab\"/></a>"
      ]
    },
    {
      "cell_type": "code",
      "execution_count": 102,
      "metadata": {
        "id": "LSr77W2gh9Vi"
      },
      "outputs": [],
      "source": [
        "import numpy as np\n",
        "import pandas as pd\n",
        "import seaborn as sns\n",
        "import matplotlib.pyplot as plt\n",
        "from sklearn.model_selection import train_test_split\n",
        "from scipy.stats import mode\n",
        "\n",
        "from sklearn.neighbors import KNeighborsClassifier"
      ]
    },
    {
      "cell_type": "markdown",
      "source": [
        "**Select Data and Split into train and validate sets**"
      ],
      "metadata": {
        "id": "4ggn6wYSiYge"
      }
    },
    {
      "cell_type": "code",
      "source": [
        "path = \"/content/drive/MyDrive/Colab Notebooks/ML - AI Learning/diabetes.csv\"\n",
        "\n",
        "data = pd.read_csv(path)\n",
        "\n",
        "data.head()\n",
        "\n",
        "X = data.iloc[:,:-1].values\n",
        "\n",
        "Y = data.iloc[:,-1:].values\n",
        "\n",
        "Y = Y.ravel()\n",
        "\n",
        "# Splitting dataset into train and test set\n",
        "\n",
        "X_train, X_test, Y_train, Y_test = train_test_split(\n",
        "  X, Y, test_size = 1/3, random_state = 0 )\n",
        "\n",
        "# Scikit-learn k-NN implementation\n",
        "knn_sklearn = KNeighborsClassifier(n_neighbors=4)\n",
        "knn_sklearn.fit(X_train, Y_train)\n",
        "Y_predict_sklearn = knn_sklearn.predict(X_test)\n",
        "\n",
        "\n"
      ],
      "metadata": {
        "id": "7narMLjriLhn"
      },
      "execution_count": 137,
      "outputs": []
    },
    {
      "cell_type": "markdown",
      "source": [
        "**Basic KNN**\n",
        "\n",
        "\n",
        "A data point will have a list of features : [x1, x2, x3...xn]\n",
        "\n",
        "Which will have a seperate classified label : [0] or [1]\n",
        "\n",
        "\n",
        "\n",
        "Distance = the square root of the squared difference between the training data and the test/unclassified data\n",
        "\n"
      ],
      "metadata": {
        "id": "8Zcw_SZ9jCAG"
      }
    },
    {
      "cell_type": "markdown",
      "source": [
        "**Build Classifier Class**\n",
        "\n",
        "- First create a method for calculating the distance\n",
        "- Next a method to classify the data\n",
        "- A method to determine validation error is needed to determine the best n for K\n",
        "- A fit() method to store the training data\n",
        "- Finally a predict method to predict new data and classify"
      ],
      "metadata": {
        "id": "cnh0bU1mifwc"
      }
    },
    {
      "cell_type": "code",
      "source": [
        "class knn():\n",
        "  def __init__(self, k):\n",
        "    self.k = k\n",
        "    # self.X_train = X_train\n",
        "    # self.y_train = y_train\n",
        "\n",
        "  #Storing Training Set\n",
        "  def fit(self, X_train, Y_train):\n",
        "    self.X_train = X_train\n",
        "    self.Y_train = Y_train\n",
        "    self.validation_error = 0.0\n",
        "    self.Y_predict = None\n",
        "\n",
        "    # no_of_test_examples, no_of_features\n",
        "    self.m, self.n = self.X_train.shape\n",
        "\n",
        "\n",
        "  def distance(self, x, x_train):\n",
        "    return np.sqrt( np.sum( np.square( x - x_train ) ) )\n",
        "\n",
        "  def find_nearest(self, x):\n",
        "\n",
        "    # calculate all the euclidean distances between current\n",
        "    # test example x and training set X_train\n",
        "\n",
        "    #Initialise array of zeros for the length of X_train\n",
        "    distances = np.zeros(self.m)\n",
        "\n",
        "\n",
        "    for i in range(self.m):\n",
        "      #Finding the distance using the previous created method, between current test (x)\n",
        "      #And the current training row in the loop: X_train[i]\n",
        "      d = self.distance(x , self.X_train[i])\n",
        "      # print(f\"X train Row: {self.X_train[i]}\")\n",
        "      # print(f\"X test Row: {x}\")\n",
        "      # print(f\"Distance for d: {d} Number {i}\")\n",
        "      #Updating the distances array of zeros with the actual distance at the specified index from the loop\n",
        "      distances[i] = d\n",
        "\n",
        "      # sort Y_train according to euclidean_distance_array and\n",
        "      # store into Y_train_sorted\n",
        "\n",
        "    inds = distances.argsort()\n",
        "    Y_train_sorted = self.Y_train[inds]\n",
        "    # print(f\"Distances Updated: {inds}\")\n",
        "    #Return the K number of list items in the sorted array\n",
        "    # print(\"Y_train_sorted\")\n",
        "    # print(Y_train_sorted.T)\n",
        "    return Y_train_sorted[:self.k]\n",
        "\n",
        "\n",
        "  def mode(self, neighbors):\n",
        "    num1 = sum(neighbors)\n",
        "    num0 = len(neighbors) - num1\n",
        "\n",
        "    # Return the majority class, or 0 in case of a tie\n",
        "    if num1 > num0:\n",
        "        return 1\n",
        "    elif num1 < num0:\n",
        "        return 0\n",
        "    else:\n",
        "        return 0  # Return 0 in case of a tie\n",
        "\n",
        "  def classify(self, X_test):\n",
        "\n",
        "    self.X_test = X_test\n",
        "\n",
        "    #Storing the length and features length of the test set\n",
        "    self.m_test, self.n = X_test.shape\n",
        "\n",
        "    #Initialise an array of zeros for Y_train using the length of the test set\n",
        "    Y_predict = np.zeros(self.m_test, dtype=\"int\")\n",
        "    # print(\"Y Initial:\")\n",
        "    # print(Y_predict)\n",
        "\n",
        "    for i in range(self.m_test):\n",
        "\n",
        "      #This will loop through each row of the test set\n",
        "      x = self.X_test[i]\n",
        "      # print(f\"Looped X (test) Number {i}:\")\n",
        "      # print(x)\n",
        "\n",
        "      neighbor = np.zeros(self.k)\n",
        "      # print(\"Initial Neighbor:\")\n",
        "      # print(neighbor)\n",
        "      neighbor = self.find_nearest(x)\n",
        "      # print(\"Neighbor:\")\n",
        "      # print(neighbor)\n",
        "\n",
        "\n",
        "      Y_predict[i] = self.mode(neighbor)\n",
        "      # most frequent class in K neighbors\n",
        "\n",
        "      # Y_predict[i] = mode( neighbor )[0][0]\n",
        "\n",
        "    self.Y_predict = Y_predict\n",
        "    return Y_predict\n",
        "\n",
        "\n",
        "test = knn(k=4)\n",
        "test.fit(X_train, Y_train)\n",
        "test.classify(X_test)\n",
        "print(\"Custom:\")\n",
        "print(test.Y_predict)\n",
        "print(\"SKlearn\")\n",
        "print(Y_predict_sklearn)\n",
        "print(\"Actual\")\n",
        "print(Y_test.T)\n"
      ],
      "metadata": {
        "colab": {
          "base_uri": "https://localhost:8080/"
        },
        "id": "erQCXzdyi7T2",
        "outputId": "d316d698-3eb0-49e2-fa55-a447c155f4bc"
      },
      "execution_count": 135,
      "outputs": [
        {
          "output_type": "stream",
          "name": "stdout",
          "text": [
            "Custom:\n",
            "[0 0 0 0 0 0 0 0 0 1 0 0 0 0 0 0 1 0 0 1 0 1 0 0 0 0 0 0 0 0 0 0 0 0 0 0]\n",
            "SKlearn\n",
            "[0 0 0 0 0 0 0 0 1 1 0 0 1 0 0 0 1 0 1 1 0 1 0 0 0 0 1 0 0 0 0 0 0 0 0 0]\n",
            "Actual\n",
            "[1 0 0 1 1 1 0 0 1 0 0 1 1 0 0 0 1 0 0 0 0 1 1 1 0 0 1 1 0 1 1 0 0 0 0 0]\n"
          ]
        }
      ]
    },
    {
      "cell_type": "markdown",
      "source": [
        "**Comparing Accuracy of Custom Model to SKLearn Model**"
      ],
      "metadata": {
        "id": "0F102TnBnm1J"
      }
    },
    {
      "cell_type": "code",
      "source": [
        "from sklearn.metrics import accuracy_score\n",
        "\n",
        "#Testing accuracy scores\n",
        "\n",
        "\n",
        "# Custom k-NN implementation\n",
        "test_custom = knn(k=3)\n",
        "test_custom.fit(X_train, Y_train)\n",
        "Y_predict_custom = test_custom.classify(X_test)\n",
        "\n",
        "# Scikit-learn k-NN implementation\n",
        "knn_sklearn = KNeighborsClassifier(n_neighbors=3)\n",
        "knn_sklearn.fit(X_train, Y_train)\n",
        "Y_predict_sklearn = knn_sklearn.predict(X_test)\n",
        "\n",
        "# Compare the predictions\n",
        "print(\"Custom k-NN Predictions:\")\n",
        "print(Y_predict_custom)\n",
        "\n",
        "print(\"\\nScikit-learn k-NN Predictions:\")\n",
        "print(Y_predict_sklearn)\n",
        "\n",
        "# Compare accuracy\n",
        "accuracy_custom = accuracy_score(Y_test, Y_predict_custom)\n",
        "accuracy_sklearn = accuracy_score(Y_test, Y_predict_sklearn)\n",
        "\n",
        "print(\"\\nAccuracy (Custom):\", accuracy_custom)\n",
        "print(\"Accuracy (Scikit-learn):\", accuracy_sklearn)\n"
      ],
      "metadata": {
        "colab": {
          "base_uri": "https://localhost:8080/"
        },
        "id": "18L0WRcpIBsF",
        "outputId": "01334bca-ffc7-4a85-ecbb-242e746bf05f"
      },
      "execution_count": 136,
      "outputs": [
        {
          "output_type": "stream",
          "name": "stdout",
          "text": [
            "Custom k-NN Predictions:\n",
            "[0 0 0 0 0 0 0 0 1 1 0 0 1 0 0 0 1 0 1 1 0 1 0 0 0 0 1 0 0 0 0 0 0 0 0 0]\n",
            "\n",
            "Scikit-learn k-NN Predictions:\n",
            "[0 0 0 0 0 0 0 0 1 1 0 0 1 0 0 0 1 0 1 1 0 1 0 0 0 0 1 0 0 0 0 0 0 0 0 0]\n",
            "\n",
            "Accuracy (Custom): 0.6388888888888888\n",
            "Accuracy (Scikit-learn): 0.6388888888888888\n"
          ]
        }
      ]
    },
    {
      "cell_type": "markdown",
      "source": [
        "**Optimizing the class**\n",
        "\n",
        "- Experimenting with feature scaling to optimize the accuracy\n",
        "- Implementing a K identifier by comparing accuracy scores for all K values and choosing the best one (basic grid search)"
      ],
      "metadata": {
        "id": "XeZvHz8sKLf-"
      }
    },
    {
      "cell_type": "code",
      "source": [
        "class knn_optimal():\n",
        "  def __init__(self, k=None):\n",
        "    self.k = k\n",
        "    self.X_train = None\n",
        "    self.Y_train = None\n",
        "    self.Y_predict = None\n",
        "    self.accuracy = None\n",
        "    self.scaled = None\n",
        "\n",
        "  def fit(self, X_train, Y_train, normalize=True):\n",
        "    if normalize:\n",
        "      self.X_train = self.normalize(X_train)\n",
        "      self.scaled = True\n",
        "    else:\n",
        "      self.X_train = X_train\n",
        "      self.scaled = False\n",
        "\n",
        "    self.Y_train = Y_train\n",
        "\n",
        "    self.m, self.n = self.X_train.shape\n",
        "\n",
        "  def normalize(self, x):\n",
        "    #Scale each row\n",
        "    mean = x.mean(axis=0)\n",
        "    std = x.std(axis=0)\n",
        "    normalized = (x - mean) / std\n",
        "    return normalized\n",
        "\n",
        "  def accuracy_score(self, Y_test):\n",
        "    length = len(Y_test)\n",
        "    sum = np.sum(self.Y_predict == Y_test)\n",
        "    accuracy = sum/length\n",
        "\n",
        "    self.accuracy = accuracy\n",
        "    return accuracy\n",
        "\n",
        "  def mode(self, vector):\n",
        "    num1 = sum(vector)\n",
        "    num0 = len(vector) - num1\n",
        "    if num1 > num0:\n",
        "        return 1\n",
        "    elif num1 < num0:\n",
        "        return 0\n",
        "    else:\n",
        "        return 0\n",
        "\n",
        "  #Grid Search method\n",
        "  def grid_search(self, X_test, Y_test):\n",
        "\n",
        "    best_k = None\n",
        "    best_accuracy = 0.0\n",
        "    max_k = int(np.sqrt(len(self.X_train)))\n",
        "\n",
        "    for k in range(1, max_k + 1):\n",
        "      self.k = k\n",
        "      self.fit(self.X_train, self.Y_train, self.scaled)\n",
        "      Y_val_predict = self.predict(X_test)\n",
        "      accuracy = self.accuracy_score(Y_test)\n",
        "\n",
        "      if accuracy > best_accuracy:\n",
        "        best_accuracy = accuracy\n",
        "        best_k = k\n",
        "\n",
        "    print(f\"Best Accuracy: {best_accuracy}\")\n",
        "    print(f\"Best K: {best_k}\")\n",
        "\n",
        "\n",
        "  #Distance Method\n",
        "  def distance(self, x, x_train):\n",
        "    return np.sqrt(np.sum(np.square(x - x_train)))\n",
        "\n",
        "  def find_nearest(self, x):\n",
        "\n",
        "    distances = np.zeros(self.m)\n",
        "\n",
        "    for i in range(self.m):\n",
        "\n",
        "      d = self.distance(x, self.X_train[i])\n",
        "      distances[i] = d\n",
        "\n",
        "    indexes = distances.argsort()\n",
        "    Y_train_sorted = self.Y_train[indexes]\n",
        "\n",
        "    return Y_train_sorted[:self.k]\n",
        "\n",
        "\n",
        "  def predict(self, X_test):\n",
        "    if self.scaled:\n",
        "      self.X_test = self.normalize(X_test)\n",
        "    else:\n",
        "      self.X_test = X_test\n",
        "\n",
        "    self.m_test, self.n = self.X_test.shape\n",
        "\n",
        "    Y_predict = np.zeros(self.m_test, dtype=\"int\")\n",
        "\n",
        "    for i in range(self.m_test):\n",
        "\n",
        "      x = self.X_test[i]\n",
        "\n",
        "      neighbor = np.zeros(self.k)\n",
        "      neighbor = self.find_nearest(x)\n",
        "\n",
        "      Y_predict[i] = self.mode(neighbor)\n",
        "    self.Y_predict = Y_predict\n",
        "\n",
        "    return Y_predict\n",
        "\n",
        "\n",
        "\n",
        "test2 = knn_optimal(k=1)\n",
        "test2.fit(X_train, Y_train)\n",
        "predict = test2.predict(X_test)\n",
        "print(predict)\n",
        "test2.grid_search(X_test, Y_test)\n",
        "\n",
        "\n",
        "\n",
        ""
      ],
      "metadata": {
        "colab": {
          "base_uri": "https://localhost:8080/"
        },
        "id": "v6k1VyehKnTv",
        "outputId": "79bc0b39-2052-40ed-8eb4-907a55938d79"
      },
      "execution_count": 163,
      "outputs": [
        {
          "output_type": "stream",
          "name": "stdout",
          "text": [
            "[0 0 0 0 1 0 0 1 0 1 0 1 1 0 0 0 1 0 1 0 0 1 1 0 0 0 1 0 1 0 1 0 0 0 0 0]\n",
            "Best Accuracy: 0.6944444444444444\n",
            "Best K: 1\n"
          ]
        }
      ]
    },
    {
      "cell_type": "markdown",
      "source": [
        "**Improved Accuracy of predictions by 0.05555555555555558**"
      ],
      "metadata": {
        "id": "HWWFDVB3nt_d"
      }
    }
  ]
}